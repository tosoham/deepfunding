{
 "cells": [
  {
   "cell_type": "code",
   "execution_count": 36,
   "id": "369e6320",
   "metadata": {},
   "outputs": [],
   "source": [
    "import polars as pl\n",
    "import cupy as cp\n",
    "import os\n",
    "import networkx as nx\n",
    "from pyvis.network import Network"
   ]
  },
  {
   "cell_type": "code",
   "execution_count": 37,
   "id": "017d54ef",
   "metadata": {},
   "outputs": [],
   "source": [
    "lf_test = pl.scan_csv(os.path.join(\"dataset_Sep_9_2025\", \"test.csv\"))\n",
    "lf_train = pl.scan_csv(os.path.join(\"dataset_Sep_9_2025\", \"train.csv\"))\n",
    "lf_sample = pl.scan_csv(os.path.join(\"dataset_Sep_9_2025\", \"sample_submission.csv\"))"
   ]
  },
  {
   "cell_type": "code",
   "execution_count": 38,
   "id": "f403c9b3",
   "metadata": {},
   "outputs": [],
   "source": [
    "df_test = lf_test.collect()\n",
    "df_train = lf_train.collect()\n",
    "df_sample = lf_sample.collect()"
   ]
  },
  {
   "cell_type": "code",
   "execution_count": 39,
   "id": "f48ba996",
   "metadata": {},
   "outputs": [
    {
     "data": {
      "text/plain": [
       "(45, 2)"
      ]
     },
     "execution_count": 39,
     "metadata": {},
     "output_type": "execute_result"
    }
   ],
   "source": [
    "df_test.shape"
   ]
  },
  {
   "cell_type": "code",
   "execution_count": 40,
   "id": "1cb655a3",
   "metadata": {},
   "outputs": [
    {
     "data": {
      "text/plain": [
       "(180, 8)"
      ]
     },
     "execution_count": 40,
     "metadata": {},
     "output_type": "execute_result"
    }
   ],
   "source": [
    "df_train.shape"
   ]
  },
  {
   "cell_type": "code",
   "execution_count": 41,
   "id": "719a80de",
   "metadata": {},
   "outputs": [
    {
     "data": {
      "text/plain": [
       "(45, 3)"
      ]
     },
     "execution_count": 41,
     "metadata": {},
     "output_type": "execute_result"
    }
   ],
   "source": [
    "df_sample.shape"
   ]
  },
  {
   "cell_type": "code",
   "execution_count": 42,
   "id": "caa961e7",
   "metadata": {},
   "outputs": [
    {
     "data": {
      "text/plain": [
       "Schema([('timestamp', String),\n",
       "        ('juror', String),\n",
       "        ('repo_a', String),\n",
       "        ('repo_b', String),\n",
       "        ('parent', String),\n",
       "        ('choice', Int64),\n",
       "        ('multiplier', Float64),\n",
       "        ('reasoning', String)])"
      ]
     },
     "execution_count": 42,
     "metadata": {},
     "output_type": "execute_result"
    }
   ],
   "source": [
    "df_train.schema"
   ]
  },
  {
   "cell_type": "code",
   "execution_count": 43,
   "id": "de08b706",
   "metadata": {},
   "outputs": [
    {
     "data": {
      "text/plain": [
       "Schema([('repo', String), ('parent', String)])"
      ]
     },
     "execution_count": 43,
     "metadata": {},
     "output_type": "execute_result"
    }
   ],
   "source": [
    "df_test.schema"
   ]
  },
  {
   "cell_type": "code",
   "execution_count": 44,
   "id": "f446335f",
   "metadata": {},
   "outputs": [
    {
     "data": {
      "text/plain": [
       "Schema([('repo', String), ('parent', String), ('weight', Float64)])"
      ]
     },
     "execution_count": 44,
     "metadata": {},
     "output_type": "execute_result"
    }
   ],
   "source": [
    "df_sample.schema"
   ]
  },
  {
   "cell_type": "code",
   "execution_count": 45,
   "id": "122df877",
   "metadata": {},
   "outputs": [
    {
     "data": {
      "text/html": [
       "<div><style>\n",
       ".dataframe > thead > tr,\n",
       ".dataframe > tbody > tr {\n",
       "  text-align: right;\n",
       "  white-space: pre-wrap;\n",
       "}\n",
       "</style>\n",
       "<small>shape: (5, 8)</small><table border=\"1\" class=\"dataframe\"><thead><tr><th>timestamp</th><th>juror</th><th>repo_a</th><th>repo_b</th><th>parent</th><th>choice</th><th>multiplier</th><th>reasoning</th></tr><tr><td>str</td><td>str</td><td>str</td><td>str</td><td>str</td><td>i64</td><td>f64</td><td>str</td></tr></thead><tbody><tr><td>&quot;2025-01-24T19:03:52.628Z&quot;</td><td>&quot;L1Juror1&quot;</td><td>&quot;https://github.com/erigontech/…</td><td>&quot;https://github.com/hyperledger…</td><td>&quot;ethereum&quot;</td><td>2</td><td>5.27</td><td>&quot;Erigon and Besu are both execu…</td></tr><tr><td>&quot;2025-01-24T19:17:57.066Z&quot;</td><td>&quot;L1Juror1&quot;</td><td>&quot;https://github.com/web3/web3.j…</td><td>&quot;https://github.com/paradigmxyz…</td><td>&quot;ethereum&quot;</td><td>1</td><td>2.22</td><td>&quot;Reth has a 2% market share in …</td></tr><tr><td>&quot;2025-01-24T19:20:19.601Z&quot;</td><td>&quot;L1Juror1&quot;</td><td>&quot;https://github.com/erigontech/…</td><td>&quot;https://github.com/ethereum/go…</td><td>&quot;ethereum&quot;</td><td>2</td><td>10.55</td><td>&quot;Erigon and Geth are both execu…</td></tr><tr><td>&quot;2025-01-24T19:25:40.017Z&quot;</td><td>&quot;L1Juror1&quot;</td><td>&quot;https://github.com/ethereumjs/…</td><td>&quot;https://github.com/ethers-io/e…</td><td>&quot;ethereum&quot;</td><td>2</td><td>4.0</td><td>&quot;EthereumJS is not used directl…</td></tr><tr><td>&quot;2025-01-15T11:19:51.121Z&quot;</td><td>&quot;L1Juror10&quot;</td><td>&quot;https://github.com/erigontech/…</td><td>&quot;https://github.com/ethereum/we…</td><td>&quot;ethereum&quot;</td><td>1</td><td>50.0</td><td>&quot;A performant and robust execut…</td></tr></tbody></table></div>"
      ],
      "text/plain": [
       "shape: (5, 8)\n",
       "┌─────────────┬───────────┬─────────────┬────────────┬──────────┬────────┬────────────┬────────────┐\n",
       "│ timestamp   ┆ juror     ┆ repo_a      ┆ repo_b     ┆ parent   ┆ choice ┆ multiplier ┆ reasoning  │\n",
       "│ ---         ┆ ---       ┆ ---         ┆ ---        ┆ ---      ┆ ---    ┆ ---        ┆ ---        │\n",
       "│ str         ┆ str       ┆ str         ┆ str        ┆ str      ┆ i64    ┆ f64        ┆ str        │\n",
       "╞═════════════╪═══════════╪═════════════╪════════════╪══════════╪════════╪════════════╪════════════╡\n",
       "│ 2025-01-24T ┆ L1Juror1  ┆ https://git ┆ https://gi ┆ ethereum ┆ 2      ┆ 5.27       ┆ Erigon and │\n",
       "│ 19:03:52.62 ┆           ┆ hub.com/eri ┆ thub.com/h ┆          ┆        ┆            ┆ Besu are   │\n",
       "│ 8Z          ┆           ┆ gontech/…   ┆ yperledger ┆          ┆        ┆            ┆ both       │\n",
       "│             ┆           ┆             ┆ …          ┆          ┆        ┆            ┆ execu…     │\n",
       "│ 2025-01-24T ┆ L1Juror1  ┆ https://git ┆ https://gi ┆ ethereum ┆ 1      ┆ 2.22       ┆ Reth has a │\n",
       "│ 19:17:57.06 ┆           ┆ hub.com/web ┆ thub.com/p ┆          ┆        ┆            ┆ 2% market  │\n",
       "│ 6Z          ┆           ┆ 3/web3.j…   ┆ aradigmxyz ┆          ┆        ┆            ┆ share in … │\n",
       "│             ┆           ┆             ┆ …          ┆          ┆        ┆            ┆            │\n",
       "│ 2025-01-24T ┆ L1Juror1  ┆ https://git ┆ https://gi ┆ ethereum ┆ 2      ┆ 10.55      ┆ Erigon and │\n",
       "│ 19:20:19.60 ┆           ┆ hub.com/eri ┆ thub.com/e ┆          ┆        ┆            ┆ Geth are   │\n",
       "│ 1Z          ┆           ┆ gontech/…   ┆ thereum/go ┆          ┆        ┆            ┆ both       │\n",
       "│             ┆           ┆             ┆ …          ┆          ┆        ┆            ┆ execu…     │\n",
       "│ 2025-01-24T ┆ L1Juror1  ┆ https://git ┆ https://gi ┆ ethereum ┆ 2      ┆ 4.0        ┆ EthereumJS │\n",
       "│ 19:25:40.01 ┆           ┆ hub.com/eth ┆ thub.com/e ┆          ┆        ┆            ┆ is not     │\n",
       "│ 7Z          ┆           ┆ ereumjs/…   ┆ thers-io/e ┆          ┆        ┆            ┆ used       │\n",
       "│             ┆           ┆             ┆ …          ┆          ┆        ┆            ┆ directl…   │\n",
       "│ 2025-01-15T ┆ L1Juror10 ┆ https://git ┆ https://gi ┆ ethereum ┆ 1      ┆ 50.0       ┆ A          │\n",
       "│ 11:19:51.12 ┆           ┆ hub.com/eri ┆ thub.com/e ┆          ┆        ┆            ┆ performant │\n",
       "│ 1Z          ┆           ┆ gontech/…   ┆ thereum/we ┆          ┆        ┆            ┆ and robust │\n",
       "│             ┆           ┆             ┆ …          ┆          ┆        ┆            ┆ execut…    │\n",
       "└─────────────┴───────────┴─────────────┴────────────┴──────────┴────────┴────────────┴────────────┘"
      ]
     },
     "execution_count": 45,
     "metadata": {},
     "output_type": "execute_result"
    }
   ],
   "source": [
    "df_train.head()"
   ]
  },
  {
   "cell_type": "code",
   "execution_count": 46,
   "id": "051fbe4b",
   "metadata": {},
   "outputs": [
    {
     "data": {
      "text/html": [
       "<div><style>\n",
       ".dataframe > thead > tr,\n",
       ".dataframe > tbody > tr {\n",
       "  text-align: right;\n",
       "  white-space: pre-wrap;\n",
       "}\n",
       "</style>\n",
       "<small>shape: (5, 3)</small><table border=\"1\" class=\"dataframe\"><thead><tr><th>repo</th><th>parent</th><th>weight</th></tr><tr><td>str</td><td>str</td><td>f64</td></tr></thead><tbody><tr><td>&quot;https://github.com/a16z/helios&quot;</td><td>&quot;ethereum&quot;</td><td>0.013638</td></tr><tr><td>&quot;https://github.com/alloy-rs/al…</td><td>&quot;ethereum&quot;</td><td>0.033943</td></tr><tr><td>&quot;https://github.com/apeworx/ape&quot;</td><td>&quot;ethereum&quot;</td><td>0.008906</td></tr><tr><td>&quot;https://github.com/chainsafe/l…</td><td>&quot;ethereum&quot;</td><td>0.007414</td></tr><tr><td>&quot;https://github.com/consensys/t…</td><td>&quot;ethereum&quot;</td><td>0.007</td></tr></tbody></table></div>"
      ],
      "text/plain": [
       "shape: (5, 3)\n",
       "┌─────────────────────────────────┬──────────┬──────────┐\n",
       "│ repo                            ┆ parent   ┆ weight   │\n",
       "│ ---                             ┆ ---      ┆ ---      │\n",
       "│ str                             ┆ str      ┆ f64      │\n",
       "╞═════════════════════════════════╪══════════╪══════════╡\n",
       "│ https://github.com/a16z/helios  ┆ ethereum ┆ 0.013638 │\n",
       "│ https://github.com/alloy-rs/al… ┆ ethereum ┆ 0.033943 │\n",
       "│ https://github.com/apeworx/ape  ┆ ethereum ┆ 0.008906 │\n",
       "│ https://github.com/chainsafe/l… ┆ ethereum ┆ 0.007414 │\n",
       "│ https://github.com/consensys/t… ┆ ethereum ┆ 0.007    │\n",
       "└─────────────────────────────────┴──────────┴──────────┘"
      ]
     },
     "execution_count": 46,
     "metadata": {},
     "output_type": "execute_result"
    }
   ],
   "source": [
    "df_sample.head()"
   ]
  },
  {
   "cell_type": "code",
   "execution_count": 47,
   "id": "a7b5acde",
   "metadata": {},
   "outputs": [
    {
     "data": {
      "text/html": [
       "<div><style>\n",
       ".dataframe > thead > tr,\n",
       ".dataframe > tbody > tr {\n",
       "  text-align: right;\n",
       "  white-space: pre-wrap;\n",
       "}\n",
       "</style>\n",
       "<small>shape: (5, 2)</small><table border=\"1\" class=\"dataframe\"><thead><tr><th>repo</th><th>parent</th></tr><tr><td>str</td><td>str</td></tr></thead><tbody><tr><td>&quot;https://github.com/a16z/helios&quot;</td><td>&quot;ethereum&quot;</td></tr><tr><td>&quot;https://github.com/alloy-rs/al…</td><td>&quot;ethereum&quot;</td></tr><tr><td>&quot;https://github.com/apeworx/ape&quot;</td><td>&quot;ethereum&quot;</td></tr><tr><td>&quot;https://github.com/chainsafe/l…</td><td>&quot;ethereum&quot;</td></tr><tr><td>&quot;https://github.com/consensys/t…</td><td>&quot;ethereum&quot;</td></tr></tbody></table></div>"
      ],
      "text/plain": [
       "shape: (5, 2)\n",
       "┌─────────────────────────────────┬──────────┐\n",
       "│ repo                            ┆ parent   │\n",
       "│ ---                             ┆ ---      │\n",
       "│ str                             ┆ str      │\n",
       "╞═════════════════════════════════╪══════════╡\n",
       "│ https://github.com/a16z/helios  ┆ ethereum │\n",
       "│ https://github.com/alloy-rs/al… ┆ ethereum │\n",
       "│ https://github.com/apeworx/ape  ┆ ethereum │\n",
       "│ https://github.com/chainsafe/l… ┆ ethereum │\n",
       "│ https://github.com/consensys/t… ┆ ethereum │\n",
       "└─────────────────────────────────┴──────────┘"
      ]
     },
     "execution_count": 47,
     "metadata": {},
     "output_type": "execute_result"
    }
   ],
   "source": [
    "df_test.head()"
   ]
  },
  {
   "cell_type": "code",
   "execution_count": 48,
   "id": "873f4944",
   "metadata": {},
   "outputs": [
    {
     "name": "stdout",
     "output_type": "stream",
     "text": [
      "✅ Dependency graph built with 46 nodes and 45 edges.\n"
     ]
    }
   ],
   "source": [
    "# --- Cell 3: Build Dependency Graph ---\n",
    "G = nx.DiGraph()\n",
    "\n",
    "for row in df_sample.iter_rows(named=True):\n",
    "    G.add_edge(row[\"parent\"], row[\"repo\"], weight=row[\"weight\"])\n",
    "\n",
    "print(f\"✅ Dependency graph built with {G.number_of_nodes()} nodes and {G.number_of_edges()} edges.\")\n"
   ]
  },
  {
   "cell_type": "code",
   "execution_count": 49,
   "id": "cf25bc04",
   "metadata": {},
   "outputs": [
    {
     "name": "stdout",
     "output_type": "stream",
     "text": [
      "\n",
      "🔎 Top 5 critical repos by centrality:\n",
      "ethereum: 1.000\n",
      "https://github.com/a16z/helios: 0.022\n",
      "https://github.com/alloy-rs/alloy: 0.022\n",
      "https://github.com/apeworx/ape: 0.022\n",
      "https://github.com/chainsafe/lodestar: 0.022\n"
     ]
    }
   ],
   "source": [
    "# --- Cell 4: Centrality Analysis (Critical Repos) ---\n",
    "centrality = nx.degree_centrality(G)\n",
    "sorted_centrality = sorted(centrality.items(), key=lambda x: -x[1])[:5]\n",
    "\n",
    "print(\"\\n🔎 Top 5 critical repos by centrality:\")\n",
    "for repo, score in sorted_centrality:\n",
    "    print(f\"{repo}: {score:.3f}\")\n"
   ]
  },
  {
   "cell_type": "code",
   "execution_count": 50,
   "id": "615865db",
   "metadata": {},
   "outputs": [
    {
     "name": "stdout",
     "output_type": "stream",
     "text": [
      "\n",
      "💰 Funding Attribution (simulated):\n",
      "ethereum: 0.00 tokens\n",
      "https://github.com/a16z/helios: 14.31 tokens\n",
      "https://github.com/alloy-rs/alloy: 35.61 tokens\n",
      "https://github.com/apeworx/ape: 9.34 tokens\n",
      "https://github.com/chainsafe/lodestar: 7.78 tokens\n",
      "https://github.com/consensys/teku: 7.34 tokens\n",
      "https://github.com/erigontech/erigon: 40.77 tokens\n",
      "https://github.com/eth-infinitism/account-abstraction: 50.41 tokens\n",
      "https://github.com/ethereum-lists/chains: 24.59 tokens\n",
      "https://github.com/ethereum/consensus-specs: 10.09 tokens\n",
      "https://github.com/ethereum/eips: 14.62 tokens\n",
      "https://github.com/ethereum/evmone: 3.26 tokens\n",
      "https://github.com/ethereum/execution-apis: 48.86 tokens\n",
      "https://github.com/argotorg/fe: 15.21 tokens\n",
      "https://github.com/ethereum/go-ethereum: 43.73 tokens\n",
      "https://github.com/ethereum/py-evm: 6.25 tokens\n",
      "https://github.com/ethereum/remix-project: 47.22 tokens\n",
      "https://github.com/argotorg/solidity: 30.26 tokens\n",
      "https://github.com/argotorg/sourcify: 45.82 tokens\n",
      "https://github.com/ethereum/web3.py: 5.03 tokens\n",
      "https://github.com/ethers-io/ethers.js: 49.00 tokens\n",
      "https://github.com/foundry-rs/foundry: 21.70 tokens\n",
      "https://github.com/grandinetech/grandine: 7.06 tokens\n",
      "https://github.com/hyperledger-web3j/web3j: 44.02 tokens\n",
      "https://github.com/hyperledger/besu: 42.11 tokens\n",
      "https://github.com/nethereum/nethereum: 39.10 tokens\n",
      "https://github.com/nethermindeth/nethermind: 49.37 tokens\n",
      "https://github.com/nomicfoundation/hardhat: 37.97 tokens\n",
      "https://github.com/openzeppelin/openzeppelin-contracts: 33.44 tokens\n",
      "https://github.com/paradigmxyz/reth: 12.82 tokens\n",
      "https://github.com/prysmaticlabs/prysm: 35.09 tokens\n",
      "https://github.com/safe-global/safe-smart-account: 4.41 tokens\n",
      "https://github.com/scaffold-eth/scaffold-eth-2: 17.03 tokens\n",
      "https://github.com/sigp/lighthouse: 44.03 tokens\n",
      "https://github.com/status-im/nimbus-eth2: 42.02 tokens\n",
      "https://github.com/vyperlang/titanoboa: 31.72 tokens\n",
      "https://github.com/vyperlang/vyper: 1.25 tokens\n",
      "https://github.com/wevm/viem: 27.41 tokens\n",
      "https://github.com/argotorg/hevm: 0.00 tokens\n",
      "https://github.com/ethdebug/format: 0.00 tokens\n",
      "https://github.com/argotorg/act: 0.00 tokens\n",
      "https://github.com/ethpandaops/ethereum-package: 0.00 tokens\n",
      "https://github.com/ethpandaops/ethereum-helm-charts: 0.00 tokens\n",
      "https://github.com/ethpandaops/checkpointz: 0.00 tokens\n",
      "https://github.com/lambdaclass/lambda_ethereum_consensus: 0.00 tokens\n",
      "https://github.com/erigontech/silkworm: 0.00 tokens\n"
     ]
    }
   ],
   "source": [
    "# --- Cell 5: Simple Funding Attribution Simulation ---\n",
    "funding_pool = 1000  # example: 1000 tokens\n",
    "weights = nx.get_edge_attributes(G, \"weight\")\n",
    "total_weight = sum(weights.values())\n",
    "\n",
    "attribution = {}\n",
    "for node in G.nodes():\n",
    "    incoming = sum([d[\"weight\"] for _, _, d in G.in_edges(node, data=True)])\n",
    "    attribution[node] = (incoming / total_weight) * funding_pool if total_weight > 0 else 0\n",
    "\n",
    "print(\"\\n💰 Funding Attribution (simulated):\")\n",
    "for repo, score in attribution.items():\n",
    "    print(f\"{repo}: {score:.2f} tokens\")\n"
   ]
  },
  {
   "cell_type": "code",
   "execution_count": 55,
   "id": "fa160a46",
   "metadata": {},
   "outputs": [
    {
     "name": "stdout",
     "output_type": "stream",
     "text": [
      "dependency_graph.html\n"
     ]
    },
    {
     "data": {
      "text/html": [
       "\n",
       "        <iframe\n",
       "            width=\"100%\"\n",
       "            height=\"600px\"\n",
       "            src=\"dependency_graph.html\"\n",
       "            frameborder=\"0\"\n",
       "            allowfullscreen\n",
       "            \n",
       "        ></iframe>\n",
       "        "
      ],
      "text/plain": [
       "<IPython.lib.display.IFrame at 0x7ff58c0dad20>"
      ]
     },
     "execution_count": 55,
     "metadata": {},
     "output_type": "execute_result"
    }
   ],
   "source": [
    "net = Network(\n",
    "    notebook=True, \n",
    "    directed=True, \n",
    "    cdn_resources=\"in_line\"   # ensures inline interactive graph works\n",
    ")\n",
    "\n",
    "# Add nodes + edges\n",
    "for row in df_sample.iter_rows(named=True):\n",
    "    net.add_node(row[\"repo\"], label=row[\"repo\"])\n",
    "    net.add_node(row[\"parent\"], label=row[\"parent\"])\n",
    "    net.add_edge(row[\"parent\"], row[\"repo\"], value=row[\"weight\"])\n",
    "\n",
    "# Show inline AND save HTML\n",
    "net.show(\"dependency_graph.html\", notebook=True, local=True)"
   ]
  },
  {
   "cell_type": "code",
   "execution_count": null,
   "id": "bd770db0",
   "metadata": {},
   "outputs": [],
   "source": []
  }
 ],
 "metadata": {
  "kernelspec": {
   "display_name": "deepfund",
   "language": "python",
   "name": "python3"
  },
  "language_info": {
   "codemirror_mode": {
    "name": "ipython",
    "version": 3
   },
   "file_extension": ".py",
   "mimetype": "text/x-python",
   "name": "python",
   "nbconvert_exporter": "python",
   "pygments_lexer": "ipython3",
   "version": "3.12.11"
  }
 },
 "nbformat": 4,
 "nbformat_minor": 5
}
