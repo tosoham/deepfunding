{
 "cells": [
  {
   "cell_type": "code",
   "execution_count": 1,
   "id": "369e6320",
   "metadata": {},
   "outputs": [],
   "source": [
    "import polars as pl\n",
    "import cupy as cp\n",
    "import os"
   ]
  },
  {
   "cell_type": "code",
   "execution_count": 2,
   "id": "017d54ef",
   "metadata": {},
   "outputs": [],
   "source": [
    "lf_test = pl.scan_csv(os.path.join(\"dataset_Sep_9_2025\", \"test.csv\"))\n",
    "lf_train = pl.scan_csv(os.path.join(\"dataset_Sep_9_2025\", \"train.csv\"))\n",
    "lf_sample = pl.scan_csv(os.path.join(\"dataset_Sep_9_2025\", \"sample_submission.csv\"))"
   ]
  },
  {
   "cell_type": "code",
   "execution_count": 3,
   "id": "f403c9b3",
   "metadata": {},
   "outputs": [],
   "source": [
    "df_test = lf_test.collect()\n",
    "df_train = lf_train.collect()\n",
    "df_sample = lf_sample.collect()"
   ]
  },
  {
   "cell_type": "code",
   "execution_count": 4,
   "id": "f48ba996",
   "metadata": {},
   "outputs": [
    {
     "data": {
      "text/plain": [
       "(45, 2)"
      ]
     },
     "execution_count": 4,
     "metadata": {},
     "output_type": "execute_result"
    }
   ],
   "source": [
    "df_test.shape"
   ]
  },
  {
   "cell_type": "code",
   "execution_count": 5,
   "id": "1cb655a3",
   "metadata": {},
   "outputs": [
    {
     "data": {
      "text/plain": [
       "(180, 8)"
      ]
     },
     "execution_count": 5,
     "metadata": {},
     "output_type": "execute_result"
    }
   ],
   "source": [
    "df_train.shape"
   ]
  },
  {
   "cell_type": "code",
   "execution_count": 6,
   "id": "719a80de",
   "metadata": {},
   "outputs": [
    {
     "data": {
      "text/plain": [
       "(45, 3)"
      ]
     },
     "execution_count": 6,
     "metadata": {},
     "output_type": "execute_result"
    }
   ],
   "source": [
    "df_sample.shape"
   ]
  },
  {
   "cell_type": "code",
   "execution_count": 7,
   "id": "caa961e7",
   "metadata": {},
   "outputs": [
    {
     "data": {
      "text/plain": [
       "Schema([('timestamp', String),\n",
       "        ('juror', String),\n",
       "        ('repo_a', String),\n",
       "        ('repo_b', String),\n",
       "        ('parent', String),\n",
       "        ('choice', Int64),\n",
       "        ('multiplier', Float64),\n",
       "        ('reasoning', String)])"
      ]
     },
     "execution_count": 7,
     "metadata": {},
     "output_type": "execute_result"
    }
   ],
   "source": [
    "df_train.schema"
   ]
  },
  {
   "cell_type": "code",
   "execution_count": 8,
   "id": "de08b706",
   "metadata": {},
   "outputs": [
    {
     "data": {
      "text/plain": [
       "Schema([('repo', String), ('parent', String)])"
      ]
     },
     "execution_count": 8,
     "metadata": {},
     "output_type": "execute_result"
    }
   ],
   "source": [
    "df_test.schema"
   ]
  },
  {
   "cell_type": "code",
   "execution_count": 9,
   "id": "f446335f",
   "metadata": {},
   "outputs": [
    {
     "data": {
      "text/plain": [
       "Schema([('repo', String), ('parent', String), ('weight', Float64)])"
      ]
     },
     "execution_count": 9,
     "metadata": {},
     "output_type": "execute_result"
    }
   ],
   "source": [
    "df_sample.schema"
   ]
  },
  {
   "cell_type": "code",
   "execution_count": 10,
   "id": "122df877",
   "metadata": {},
   "outputs": [
    {
     "data": {
      "text/html": [
       "<div><style>\n",
       ".dataframe > thead > tr,\n",
       ".dataframe > tbody > tr {\n",
       "  text-align: right;\n",
       "  white-space: pre-wrap;\n",
       "}\n",
       "</style>\n",
       "<small>shape: (5, 8)</small><table border=\"1\" class=\"dataframe\"><thead><tr><th>timestamp</th><th>juror</th><th>repo_a</th><th>repo_b</th><th>parent</th><th>choice</th><th>multiplier</th><th>reasoning</th></tr><tr><td>str</td><td>str</td><td>str</td><td>str</td><td>str</td><td>i64</td><td>f64</td><td>str</td></tr></thead><tbody><tr><td>&quot;2025-01-24T19:03:52.628Z&quot;</td><td>&quot;L1Juror1&quot;</td><td>&quot;https://github.com/erigontech/…</td><td>&quot;https://github.com/hyperledger…</td><td>&quot;ethereum&quot;</td><td>2</td><td>5.27</td><td>&quot;Erigon and Besu are both execu…</td></tr><tr><td>&quot;2025-01-24T19:17:57.066Z&quot;</td><td>&quot;L1Juror1&quot;</td><td>&quot;https://github.com/web3/web3.j…</td><td>&quot;https://github.com/paradigmxyz…</td><td>&quot;ethereum&quot;</td><td>1</td><td>2.22</td><td>&quot;Reth has a 2% market share in …</td></tr><tr><td>&quot;2025-01-24T19:20:19.601Z&quot;</td><td>&quot;L1Juror1&quot;</td><td>&quot;https://github.com/erigontech/…</td><td>&quot;https://github.com/ethereum/go…</td><td>&quot;ethereum&quot;</td><td>2</td><td>10.55</td><td>&quot;Erigon and Geth are both execu…</td></tr><tr><td>&quot;2025-01-24T19:25:40.017Z&quot;</td><td>&quot;L1Juror1&quot;</td><td>&quot;https://github.com/ethereumjs/…</td><td>&quot;https://github.com/ethers-io/e…</td><td>&quot;ethereum&quot;</td><td>2</td><td>4.0</td><td>&quot;EthereumJS is not used directl…</td></tr><tr><td>&quot;2025-01-15T11:19:51.121Z&quot;</td><td>&quot;L1Juror10&quot;</td><td>&quot;https://github.com/erigontech/…</td><td>&quot;https://github.com/ethereum/we…</td><td>&quot;ethereum&quot;</td><td>1</td><td>50.0</td><td>&quot;A performant and robust execut…</td></tr></tbody></table></div>"
      ],
      "text/plain": [
       "shape: (5, 8)\n",
       "┌─────────────┬───────────┬─────────────┬────────────┬──────────┬────────┬────────────┬────────────┐\n",
       "│ timestamp   ┆ juror     ┆ repo_a      ┆ repo_b     ┆ parent   ┆ choice ┆ multiplier ┆ reasoning  │\n",
       "│ ---         ┆ ---       ┆ ---         ┆ ---        ┆ ---      ┆ ---    ┆ ---        ┆ ---        │\n",
       "│ str         ┆ str       ┆ str         ┆ str        ┆ str      ┆ i64    ┆ f64        ┆ str        │\n",
       "╞═════════════╪═══════════╪═════════════╪════════════╪══════════╪════════╪════════════╪════════════╡\n",
       "│ 2025-01-24T ┆ L1Juror1  ┆ https://git ┆ https://gi ┆ ethereum ┆ 2      ┆ 5.27       ┆ Erigon and │\n",
       "│ 19:03:52.62 ┆           ┆ hub.com/eri ┆ thub.com/h ┆          ┆        ┆            ┆ Besu are   │\n",
       "│ 8Z          ┆           ┆ gontech/…   ┆ yperledger ┆          ┆        ┆            ┆ both       │\n",
       "│             ┆           ┆             ┆ …          ┆          ┆        ┆            ┆ execu…     │\n",
       "│ 2025-01-24T ┆ L1Juror1  ┆ https://git ┆ https://gi ┆ ethereum ┆ 1      ┆ 2.22       ┆ Reth has a │\n",
       "│ 19:17:57.06 ┆           ┆ hub.com/web ┆ thub.com/p ┆          ┆        ┆            ┆ 2% market  │\n",
       "│ 6Z          ┆           ┆ 3/web3.j…   ┆ aradigmxyz ┆          ┆        ┆            ┆ share in … │\n",
       "│             ┆           ┆             ┆ …          ┆          ┆        ┆            ┆            │\n",
       "│ 2025-01-24T ┆ L1Juror1  ┆ https://git ┆ https://gi ┆ ethereum ┆ 2      ┆ 10.55      ┆ Erigon and │\n",
       "│ 19:20:19.60 ┆           ┆ hub.com/eri ┆ thub.com/e ┆          ┆        ┆            ┆ Geth are   │\n",
       "│ 1Z          ┆           ┆ gontech/…   ┆ thereum/go ┆          ┆        ┆            ┆ both       │\n",
       "│             ┆           ┆             ┆ …          ┆          ┆        ┆            ┆ execu…     │\n",
       "│ 2025-01-24T ┆ L1Juror1  ┆ https://git ┆ https://gi ┆ ethereum ┆ 2      ┆ 4.0        ┆ EthereumJS │\n",
       "│ 19:25:40.01 ┆           ┆ hub.com/eth ┆ thub.com/e ┆          ┆        ┆            ┆ is not     │\n",
       "│ 7Z          ┆           ┆ ereumjs/…   ┆ thers-io/e ┆          ┆        ┆            ┆ used       │\n",
       "│             ┆           ┆             ┆ …          ┆          ┆        ┆            ┆ directl…   │\n",
       "│ 2025-01-15T ┆ L1Juror10 ┆ https://git ┆ https://gi ┆ ethereum ┆ 1      ┆ 50.0       ┆ A          │\n",
       "│ 11:19:51.12 ┆           ┆ hub.com/eri ┆ thub.com/e ┆          ┆        ┆            ┆ performant │\n",
       "│ 1Z          ┆           ┆ gontech/…   ┆ thereum/we ┆          ┆        ┆            ┆ and robust │\n",
       "│             ┆           ┆             ┆ …          ┆          ┆        ┆            ┆ execut…    │\n",
       "└─────────────┴───────────┴─────────────┴────────────┴──────────┴────────┴────────────┴────────────┘"
      ]
     },
     "execution_count": 10,
     "metadata": {},
     "output_type": "execute_result"
    }
   ],
   "source": [
    "df_train.head()"
   ]
  },
  {
   "cell_type": "code",
   "execution_count": 11,
   "id": "051fbe4b",
   "metadata": {},
   "outputs": [
    {
     "data": {
      "text/html": [
       "<div><style>\n",
       ".dataframe > thead > tr,\n",
       ".dataframe > tbody > tr {\n",
       "  text-align: right;\n",
       "  white-space: pre-wrap;\n",
       "}\n",
       "</style>\n",
       "<small>shape: (5, 3)</small><table border=\"1\" class=\"dataframe\"><thead><tr><th>repo</th><th>parent</th><th>weight</th></tr><tr><td>str</td><td>str</td><td>f64</td></tr></thead><tbody><tr><td>&quot;https://github.com/a16z/helios&quot;</td><td>&quot;ethereum&quot;</td><td>0.013638</td></tr><tr><td>&quot;https://github.com/alloy-rs/al…</td><td>&quot;ethereum&quot;</td><td>0.033943</td></tr><tr><td>&quot;https://github.com/apeworx/ape&quot;</td><td>&quot;ethereum&quot;</td><td>0.008906</td></tr><tr><td>&quot;https://github.com/chainsafe/l…</td><td>&quot;ethereum&quot;</td><td>0.007414</td></tr><tr><td>&quot;https://github.com/consensys/t…</td><td>&quot;ethereum&quot;</td><td>0.007</td></tr></tbody></table></div>"
      ],
      "text/plain": [
       "shape: (5, 3)\n",
       "┌─────────────────────────────────┬──────────┬──────────┐\n",
       "│ repo                            ┆ parent   ┆ weight   │\n",
       "│ ---                             ┆ ---      ┆ ---      │\n",
       "│ str                             ┆ str      ┆ f64      │\n",
       "╞═════════════════════════════════╪══════════╪══════════╡\n",
       "│ https://github.com/a16z/helios  ┆ ethereum ┆ 0.013638 │\n",
       "│ https://github.com/alloy-rs/al… ┆ ethereum ┆ 0.033943 │\n",
       "│ https://github.com/apeworx/ape  ┆ ethereum ┆ 0.008906 │\n",
       "│ https://github.com/chainsafe/l… ┆ ethereum ┆ 0.007414 │\n",
       "│ https://github.com/consensys/t… ┆ ethereum ┆ 0.007    │\n",
       "└─────────────────────────────────┴──────────┴──────────┘"
      ]
     },
     "execution_count": 11,
     "metadata": {},
     "output_type": "execute_result"
    }
   ],
   "source": [
    "df_sample.head()"
   ]
  },
  {
   "cell_type": "code",
   "execution_count": 12,
   "id": "a7b5acde",
   "metadata": {},
   "outputs": [
    {
     "data": {
      "text/html": [
       "<div><style>\n",
       ".dataframe > thead > tr,\n",
       ".dataframe > tbody > tr {\n",
       "  text-align: right;\n",
       "  white-space: pre-wrap;\n",
       "}\n",
       "</style>\n",
       "<small>shape: (5, 2)</small><table border=\"1\" class=\"dataframe\"><thead><tr><th>repo</th><th>parent</th></tr><tr><td>str</td><td>str</td></tr></thead><tbody><tr><td>&quot;https://github.com/a16z/helios&quot;</td><td>&quot;ethereum&quot;</td></tr><tr><td>&quot;https://github.com/alloy-rs/al…</td><td>&quot;ethereum&quot;</td></tr><tr><td>&quot;https://github.com/apeworx/ape&quot;</td><td>&quot;ethereum&quot;</td></tr><tr><td>&quot;https://github.com/chainsafe/l…</td><td>&quot;ethereum&quot;</td></tr><tr><td>&quot;https://github.com/consensys/t…</td><td>&quot;ethereum&quot;</td></tr></tbody></table></div>"
      ],
      "text/plain": [
       "shape: (5, 2)\n",
       "┌─────────────────────────────────┬──────────┐\n",
       "│ repo                            ┆ parent   │\n",
       "│ ---                             ┆ ---      │\n",
       "│ str                             ┆ str      │\n",
       "╞═════════════════════════════════╪══════════╡\n",
       "│ https://github.com/a16z/helios  ┆ ethereum │\n",
       "│ https://github.com/alloy-rs/al… ┆ ethereum │\n",
       "│ https://github.com/apeworx/ape  ┆ ethereum │\n",
       "│ https://github.com/chainsafe/l… ┆ ethereum │\n",
       "│ https://github.com/consensys/t… ┆ ethereum │\n",
       "└─────────────────────────────────┴──────────┘"
      ]
     },
     "execution_count": 12,
     "metadata": {},
     "output_type": "execute_result"
    }
   ],
   "source": [
    "df_test.head()"
   ]
  },
  {
   "cell_type": "code",
   "execution_count": null,
   "id": "873f4944",
   "metadata": {},
   "outputs": [],
   "source": []
  }
 ],
 "metadata": {
  "kernelspec": {
   "display_name": "deepfund",
   "language": "python",
   "name": "python3"
  },
  "language_info": {
   "codemirror_mode": {
    "name": "ipython",
    "version": 3
   },
   "file_extension": ".py",
   "mimetype": "text/x-python",
   "name": "python",
   "nbconvert_exporter": "python",
   "pygments_lexer": "ipython3",
   "version": "3.12.11"
  }
 },
 "nbformat": 4,
 "nbformat_minor": 5
}
